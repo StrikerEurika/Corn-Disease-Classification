{
 "cells": [
  {
   "cell_type": "markdown",
   "id": "5373e810",
   "metadata": {},
   "source": [
    "# **Save the models**"
   ]
  },
  {
   "cell_type": "code",
   "execution_count": 2,
   "id": "932c7a0a",
   "metadata": {},
   "outputs": [],
   "source": [
    "import tensorflow as tf\n",
    "from tensorflow.keras.models import load_model"
   ]
  },
  {
   "cell_type": "markdown",
   "id": "825c2a61",
   "metadata": {},
   "source": [
    "**Save Models' architecture**"
   ]
  },
  {
   "cell_type": "code",
   "execution_count": null,
   "id": "77574756",
   "metadata": {},
   "outputs": [],
   "source": [
    "import os\n",
    "\n",
    "models_folder = r\"..\\models\\pre_trained_models\"\n",
    "output_folder = r\"..\\model_weights\"\n",
    "\n",
    "for filename in os.listdir(models_folder):\n",
    "    if filename.endswith(\".keras\"):\n",
    "        model_path = os.path.join(models_folder, filename)\n",
    "        model = load_model(model_path)\n",
    "        \n",
    "        # Save architecture\n",
    "        model_json = model.to_json()\n",
    "        json_filename = os.path.splitext(filename)[0] + \".json\"\n",
    "        with open(os.path.join(output_folder, json_filename), \"w\") as json_file:\n",
    "            json_file.write(model_json)\n",
    "        \n",
    "        # Save weights\n",
    "        weights_filename = os.path.splitext(filename)[0] + \".weights.h5\"\n",
    "        model.save_weights(os.path.join(output_folder, weights_filename))"
   ]
  }
 ],
 "metadata": {
  "kernelspec": {
   "display_name": ".venv",
   "language": "python",
   "name": "python3"
  },
  "language_info": {
   "codemirror_mode": {
    "name": "ipython",
    "version": 3
   },
   "file_extension": ".py",
   "mimetype": "text/x-python",
   "name": "python",
   "nbconvert_exporter": "python",
   "pygments_lexer": "ipython3",
   "version": "3.11.3"
  }
 },
 "nbformat": 4,
 "nbformat_minor": 5
}
