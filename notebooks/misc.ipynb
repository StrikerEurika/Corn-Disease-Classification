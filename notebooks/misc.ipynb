{
 "cells": [
  {
   "cell_type": "markdown",
   "id": "7e6fdee4",
   "metadata": {},
   "source": [
    "## **Data Spliting**"
   ]
  },
  {
   "cell_type": "code",
   "execution_count": null,
   "id": "a5517bd8",
   "metadata": {},
   "outputs": [
    {
     "name": "stdout",
     "output_type": "stream",
     "text": [
      "Data successfully split into train, val, and test sets!\n"
     ]
    }
   ],
   "source": [
    "import os\n",
    "import shutil\n",
    "from sklearn.model_selection import train_test_split\n",
    "\n",
    "# Define paths\n",
    "data_dir = r\"D:\\School\\ITC\\Y3\\Semet 2\\Mini Project\\Project Folder\\Corn-Disease-Detection\\datasets\\data\"  # Path to your dataset folder\n",
    "output_dir = r\"D:\\School\\ITC\\Y3\\Semet 2\\Mini Project\\Project Folder\\Corn-Disease-Detection\\datasets\\processed_data_v2\"  # Output folder for train, val, test splits\n",
    "\n",
    "# Define split ratios\n",
    "train_ratio = 0.8\n",
    "test_ratio = 0.1\n",
    "val_ratio = 0.1\n",
    "\n",
    "# Create output directories\n",
    "for split in ['train', 'val', 'test']:\n",
    "    for category in os.listdir(data_dir):\n",
    "        os.makedirs(os.path.join(output_dir, split, category), exist_ok=True)\n",
    "\n",
    "# Split data\n",
    "for category in os.listdir(data_dir):\n",
    "    category_path = os.path.join(data_dir, category)\n",
    "    images = os.listdir(category_path)\n",
    "    \n",
    "    train_images, temp_images = train_test_split(images, test_size=(1 - train_ratio), random_state=42)\n",
    "    val_images, test_images = train_test_split(temp_images, test_size=(test_ratio / (val_ratio + test_ratio)), random_state=42)\n",
    "    \n",
    "    # Move files to respective directories\n",
    "    for image in train_images:\n",
    "        shutil.copy(os.path.join(category_path, image), os.path.join(output_dir, 'train', category, image))\n",
    "    for image in val_images:\n",
    "        shutil.copy(os.path.join(category_path, image), os.path.join(output_dir, 'val', category, image))\n",
    "    for image in test_images:\n",
    "        shutil.copy(os.path.join(category_path, image), os.path.join(output_dir, 'test', category, image))\n",
    "\n",
    "print(\"Data successfully split into train, val, and test sets!\")"
   ]
  },
  {
   "cell_type": "code",
   "execution_count": 17,
   "id": "fdea4b28",
   "metadata": {},
   "outputs": [
    {
     "name": "stdout",
     "output_type": "stream",
     "text": [
      "Number of images in D:\\School\\ITC\\Y3\\Semet 2\\Mini Project\\Project Folder\\Corn-Disease-Detection\\datasets\\processed_data_v2\\train: 3348\n",
      "Number of images in D:\\School\\ITC\\Y3\\Semet 2\\Mini Project\\Project Folder\\Corn-Disease-Detection\\datasets\\processed_data_v2\\val: 419\n",
      "Number of images in D:\\School\\ITC\\Y3\\Semet 2\\Mini Project\\Project Folder\\Corn-Disease-Detection\\datasets\\processed_data_v2\\test: 421\n"
     ]
    }
   ],
   "source": [
    "[ train_dir, val_dir, test_dir ] = [ \n",
    "                                    os.path.join(output_dir, 'train'), \n",
    "                                    os.path.join(output_dir, 'val'), \n",
    "                                    os.path.join(output_dir, 'test') \n",
    "                                    ]\n",
    "\n",
    "# Count images in the directory and its subdirectories\n",
    "for split_dir in [train_dir, val_dir, test_dir]:\n",
    "    image_count = sum([len(files) for _, _, files in os.walk(split_dir)])\n",
    "    print(f\"Number of images in {split_dir}: {image_count}\")"
   ]
  },
  {
   "cell_type": "markdown",
   "id": "31fd1b28",
   "metadata": {},
   "source": [
    "# **Oversampling the Minor Class**"
   ]
  },
  {
   "cell_type": "markdown",
   "id": "f84f5a72",
   "metadata": {},
   "source": [
    "- Takes each image in your minority class folder\n",
    "- Applies random transformations (like rotating, flipping, zooming)\n",
    "- Generates 10 new versions per image\n",
    "- Saves those new images to a specified directory"
   ]
  },
  {
   "cell_type": "code",
   "execution_count": 4,
   "id": "ca7c59cf",
   "metadata": {},
   "outputs": [],
   "source": [
    "from tensorflow.keras.preprocessing.image import ImageDataGenerator\n",
    "import tensorflow as tf\n",
    "import os\n",
    "\n",
    "minority_class_dir = r\"D:\\School\\ITC\\Y3\\Semet 2\\Mini Project\\Project Folder\\Corn-Disease-Classification\\datasets\\data\\Gray_Leaf_Spot\"\n",
    "output_dir = r\"D:\\School\\ITC\\Y3\\Semet 2\\Mini Project\\Project Folder\\Corn-Disease-Classification\\datasets\\data_oversampled\\Gray_Leaf_Spot\"\n",
    "\n",
    "# Create output directory if it doesn't exist\n",
    "os.makedirs(output_dir, exist_ok=True)\n",
    "\n",
    "datagen = ImageDataGenerator(\n",
    "    rotation_range=20,\n",
    "    width_shift_range=0.2,\n",
    "    height_shift_range=0.2,\n",
    "    zoom_range=0.2,\n",
    "    horizontal_flip=True,\n",
    "    fill_mode='nearest'\n",
    ")\n",
    "\n",
    "# Example: Generate 1000 augmented images\n",
    "for img_file in os.listdir(minority_class_dir):\n",
    "    img = tf.keras.utils.load_img(os.path.join(minority_class_dir, img_file), target_size=(224, 224))\n",
    "    x = tf.keras.utils.img_to_array(img)\n",
    "    x = x.reshape((1,) + x.shape)\n",
    "\n",
    "    i = 0\n",
    "    for batch in datagen.flow(x, batch_size=1, save_to_dir=output_dir, save_prefix='aug', save_format='jpeg'):\n",
    "        i += 1\n",
    "        if i > 2:\n",
    "            break"
   ]
  }
 ],
 "metadata": {
  "kernelspec": {
   "display_name": ".venv",
   "language": "python",
   "name": "python3"
  },
  "language_info": {
   "codemirror_mode": {
    "name": "ipython",
    "version": 3
   },
   "file_extension": ".py",
   "mimetype": "text/x-python",
   "name": "python",
   "nbconvert_exporter": "python",
   "pygments_lexer": "ipython3",
   "version": "3.11.3"
  }
 },
 "nbformat": 4,
 "nbformat_minor": 5
}
