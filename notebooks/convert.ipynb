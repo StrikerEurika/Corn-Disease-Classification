{
 "cells": [
  {
   "cell_type": "markdown",
   "metadata": {},
   "source": [
    "# Import Required Libraries\n",
    "Import the necessary libraries, including nbformat and nbconvert."
   ]
  },
  {
   "cell_type": "code",
   "execution_count": 1,
   "metadata": {},
   "outputs": [],
   "source": [
    "# Import the necessary libraries\n",
    "import nbformat\n",
    "from nbconvert import HTMLExporter"
   ]
  },
  {
   "cell_type": "markdown",
   "metadata": {},
   "source": [
    "# Load the Jupyter Notebook\n",
    "Use nbformat to read the Jupyter notebook file."
   ]
  },
  {
   "cell_type": "code",
   "execution_count": 2,
   "metadata": {},
   "outputs": [],
   "source": [
    "# Load the Jupyter Notebook\n",
    "notebook_filename = r'D:\\School\\ITC\\Y3\\Semet 2\\Mini Project\\Project Folder\\Corn-Disease-Detection\\notebooks\\train_scratch_model.ipynb'  # Replace with your notebook file path\n",
    "with open(notebook_filename, 'r', encoding='utf-8') as f:\n",
    "    notebook_content = nbformat.read(f, as_version=4)"
   ]
  },
  {
   "cell_type": "markdown",
   "metadata": {},
   "source": [
    "# Convert Notebook to HTML\n",
    "Use nbconvert to convert the notebook to HTML format."
   ]
  },
  {
   "cell_type": "code",
   "execution_count": 3,
   "metadata": {},
   "outputs": [
    {
     "name": "stderr",
     "output_type": "stream",
     "text": [
      "d:\\School\\ITC\\Y3\\Semet 2\\Mini Project\\Project Folder\\Corn-Disease-Detection\\.venv\\share\\jupyter\\nbconvert\\templates\\base\\display_priority.j2:32: UserWarning: Your element with mimetype(s) dict_keys(['application/vnd.plotly.v1+json']) is not able to be represented.\n",
      "  {%- elif type == 'text/vnd.mermaid' -%}\n"
     ]
    }
   ],
   "source": [
    "# Convert the notebook to HTML\n",
    "html_exporter = HTMLExporter()\n",
    "html_data, resources = html_exporter.from_notebook_node(notebook_content)\n",
    "\n",
    "# Save the HTML output to a file\n",
    "html_filename = 'output_notebook.html'  # Replace with your desired output file path\n",
    "with open(html_filename, 'w', encoding='utf-8') as f:\n",
    "    f.write(html_data)"
   ]
  },
  {
   "cell_type": "markdown",
   "metadata": {},
   "source": [
    "# Save HTML File\n",
    "Save the converted HTML content to a file."
   ]
  },
  {
   "cell_type": "code",
   "execution_count": 4,
   "metadata": {},
   "outputs": [],
   "source": [
    "# Save HTML File\n",
    "html_filename = 'output_notebook.html'  # Replace with your desired output file path\n",
    "with open(html_filename, 'w', encoding='utf-8') as f:\n",
    "    f.write(html_data)"
   ]
  }
 ],
 "metadata": {
  "kernelspec": {
   "display_name": ".venv",
   "language": "python",
   "name": "python3"
  },
  "language_info": {
   "codemirror_mode": {
    "name": "ipython",
    "version": 3
   },
   "file_extension": ".py",
   "mimetype": "text/x-python",
   "name": "python",
   "nbconvert_exporter": "python",
   "pygments_lexer": "ipython3",
   "version": "3.11.3"
  }
 },
 "nbformat": 4,
 "nbformat_minor": 2
}
